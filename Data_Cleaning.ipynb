{
 "cells": [
  {
   "cell_type": "markdown",
   "metadata": {},
   "source": [
    "# WYSP - Data Cleaning"
   ]
  },
  {
   "cell_type": "markdown",
   "metadata": {},
   "source": [
    "## Description: \n",
    "Used [IGN Kaggle Dataset](https://github.com/john7obed/ign_games_of_20_years) to generate a dummy-like Dataframe to calculate distances between games"
   ]
  },
  {
   "cell_type": "markdown",
   "metadata": {},
   "source": [
    "# Libraries"
   ]
  },
  {
   "cell_type": "code",
   "execution_count": null,
   "metadata": {},
   "outputs": [],
   "source": [
    "import pandas as pd\n",
    "import numpy as np\n",
    "import seaborn as sns\n",
    "from sklearn.preprocessing import OneHotEncoder"
   ]
  },
  {
   "cell_type": "markdown",
   "metadata": {},
   "source": [
    "# Load dataframe"
   ]
  },
  {
   "cell_type": "code",
   "execution_count": null,
   "metadata": {},
   "outputs": [],
   "source": [
    "ign_games = pd.read_csv('ign.csv', index_col='Unnamed: 0')"
   ]
  },
  {
   "cell_type": "code",
   "execution_count": null,
   "metadata": {},
   "outputs": [],
   "source": [
    "ign_games.head(5)"
   ]
  },
  {
   "cell_type": "code",
   "execution_count": null,
   "metadata": {},
   "outputs": [],
   "source": [
    "ign_games.info()"
   ]
  },
  {
   "cell_type": "code",
   "execution_count": null,
   "metadata": {},
   "outputs": [],
   "source": [
    "sns.distplot(ign_games['release_year'],bins=100)"
   ]
  },
  {
   "cell_type": "markdown",
   "metadata": {},
   "source": [
    "# Removing null lines"
   ]
  },
  {
   "cell_type": "code",
   "execution_count": null,
   "metadata": {},
   "outputs": [],
   "source": [
    "ign_games.isnull().sum()"
   ]
  },
  {
   "cell_type": "code",
   "execution_count": null,
   "metadata": {},
   "outputs": [],
   "source": [
    "ign_games.dropna(inplace=True,)"
   ]
  },
  {
   "cell_type": "markdown",
   "metadata": {},
   "source": [
    "# Adjusting Index"
   ]
  },
  {
   "cell_type": "code",
   "execution_count": null,
   "metadata": {},
   "outputs": [],
   "source": [
    "ign_games.reset_index(inplace=True,drop=True)"
   ]
  },
  {
   "cell_type": "markdown",
   "metadata": {},
   "source": [
    "# Creating `old school` column"
   ]
  },
  {
   "cell_type": "code",
   "execution_count": null,
   "metadata": {},
   "outputs": [],
   "source": [
    "ign_games['old_game']  = ign_games.release_year.apply(lambda x: 1 if x <= 2000 else 0)"
   ]
  },
  {
   "cell_type": "markdown",
   "metadata": {},
   "source": [
    "# Creating `critic score` column"
   ]
  },
  {
   "cell_type": "code",
   "execution_count": null,
   "metadata": {},
   "outputs": [],
   "source": [
    "ign_games['critic_high_score'] = ign_games.score.apply(lambda x: 1 if x >= 8.5 else 0)"
   ]
  },
  {
   "cell_type": "markdown",
   "metadata": {},
   "source": [
    "# Handling `platforms` columns"
   ]
  },
  {
   "cell_type": "markdown",
   "metadata": {},
   "source": [
    "## Compiled platform column"
   ]
  },
  {
   "cell_type": "code",
   "execution_count": null,
   "metadata": {},
   "outputs": [],
   "source": [
    "ign_games['all_plat'] = None"
   ]
  },
  {
   "cell_type": "code",
   "execution_count": null,
   "metadata": {},
   "outputs": [],
   "source": [
    "for index in ign_games.index:\n",
    "    ign_games.at[index,'all_plat'] = list(ign_games['platform'].loc[ign_games.title == ign_games.title.iloc[index]])"
   ]
  },
  {
   "cell_type": "markdown",
   "metadata": {},
   "source": [
    "## Generalizing platforms"
   ]
  },
  {
   "cell_type": "code",
   "execution_count": null,
   "metadata": {},
   "outputs": [],
   "source": [
    "transf_plat = {key:'' for key in ign_games.platform.unique()}\n",
    "for key,value in transf_plat.items():\n",
    "    if key == 'iPhone' or key == 'iPad' or key =='Windows Phone' or key =='Android':\n",
    "        transf_plat[key] = 'Mobile'\n",
    "    elif key == 'Linux' or key == 'PC' or key == 'Macintosh' or key == 'Windows Surface' or key == 'Pocket PC' or key == 'SteamOS':\n",
    "        transf_plat[key] = 'PC'\n",
    "    elif key == 'PlayStation Vita' or key == 'Nintendo DS' or key == 'Nintendo 3DS' or key == 'New Nintendo 3DS' or key == 'Game Boy Color' or key == 'PlayStation Portable':\n",
    "        transf_plat[key] = 'Portable'\n",
    "    elif key == 'Xbox 360' or key == 'PlayStation 3' or key == 'PlayStation 4' or key == 'PlayStation' or key == 'PlayStation 2' or key == 'Wii U' or key == 'Wii' or key == 'Xbox' or key == 'Xbox One':\n",
    "        transf_plat[key] = key\n",
    "    elif key == 'Lynx' or key == 'Game.Com' or key == 'Arcade' or key == 'DVD / HD Video Game' or key == 'Wireless' or key == 'iPod' or key == 'Web Games' or key == 'Ouya':\n",
    "        transf_plat[key] = 'Others'\n",
    "    else:\n",
    "        transf_plat[key] = 'Old Consoles'       \n",
    "ign_games['generic_plat'] = ign_games.platform.map(transf_plat)"
   ]
  },
  {
   "cell_type": "markdown",
   "metadata": {},
   "source": [
    "## Separating platforms in sectors"
   ]
  },
  {
   "cell_type": "code",
   "execution_count": null,
   "metadata": {},
   "outputs": [],
   "source": [
    "playstation = {'PlayStation': 1, 'PlayStation 2': 1, 'PlayStation 3': 1, 'PlayStation 4': 1}\n",
    "xbox = {'Xbox': 1,'Xbox 360': 1,'Xbox One': 1}\n",
    "nintento = {'Wii':1, 'Wii U': 1}\n",
    "portable = {'Portable': 1}\n",
    "old_console = {'Old Consoles': 1}\n",
    "mobile = {'Mobile': 1}\n",
    "pc = {'PC': 1}\n",
    "others = {'Others': 1}\n",
    "play4 = {'PlayStation 4': 1}\n",
    "xone = {'Xbox One': 1}\n",
    "wiiu = {'Wii U': 2}\n",
    "\n",
    "ign_games['Sony'] = ign_games.generic_plat.map(playstation)\n",
    "ign_games['Microsoft'] = ign_games.generic_plat.map(xbox)\n",
    "ign_games['Nintendo'] = ign_games.generic_plat.map(nintento)\n",
    "ign_games['Portable'] = ign_games.generic_plat.map(portable)\n",
    "ign_games['Old_Consoles'] = ign_games.generic_plat.map(old_console)\n",
    "ign_games['Mobile'] = ign_games.generic_plat.map(mobile)\n",
    "ign_games['PC'] = ign_games.generic_plat.map(pc)\n",
    "ign_games['Others_Plat'] = ign_games.generic_plat.map(others)\n",
    "ign_games['Playstation_4'] = ign_games.generic_plat.map(play4)\n",
    "ign_games['Xbox_One'] = ign_games.generic_plat.map(xone)\n",
    "ign_games['Wii_U'] = ign_games.generic_plat.map(wiiu)"
   ]
  },
  {
   "cell_type": "code",
   "execution_count": null,
   "metadata": {},
   "outputs": [],
   "source": [
    "ign_games.fillna(value=0,inplace=True)"
   ]
  },
  {
   "cell_type": "code",
   "execution_count": null,
   "metadata": {},
   "outputs": [],
   "source": [
    "ign_games[['Sony','Microsoft','Nintendo','Portable','Old_Consoles','Mobile','PC','Others_Plat','Playstation_4','Xbox_One','Wii_U']] = ign_games[['Sony','Microsoft','Nintendo','Portable','Old_Consoles','Mobile','PC','Others_Plat','Playstation_4','Xbox_One','Wii_U']].apply(lambda x: x.astype('int'))"
   ]
  },
  {
   "cell_type": "markdown",
   "metadata": {},
   "source": [
    "# Spliting genres in columns `genre_1` and `genre_2`"
   ]
  },
  {
   "cell_type": "code",
   "execution_count": null,
   "metadata": {},
   "outputs": [],
   "source": [
    "def adj_genre(genre,position):\n",
    "    try:\n",
    "        value = genre.split()[position].replace(',','')\n",
    "        return value\n",
    "    except:\n",
    "        return genre"
   ]
  },
  {
   "cell_type": "code",
   "execution_count": null,
   "metadata": {},
   "outputs": [],
   "source": [
    "ign_games['genre_1'] = ign_games.genre.apply(lambda x: adj_genre(x,0))\n",
    "ign_games['genre_2'] = ign_games.genre.apply(lambda x: adj_genre(x,1))"
   ]
  },
  {
   "cell_type": "markdown",
   "metadata": {},
   "source": [
    "# Creating Genres Dummies Columns"
   ]
  },
  {
   "cell_type": "code",
   "execution_count": null,
   "metadata": {},
   "outputs": [],
   "source": [
    "all_genres = list(set(list(ign_games['genre_1'].unique()) + list(ign_games['genre_2'].unique())))\n",
    "all_genres = np.array(all_genres).reshape(-1, 1)"
   ]
  },
  {
   "cell_type": "code",
   "execution_count": null,
   "metadata": {},
   "outputs": [],
   "source": [
    "def my_encoding(df, encoder):\n",
    "    left = pd.DataFrame(encoder.transform(df.loc[:, ['genre_1']]).toarray(), columns=encoder.categories_[0])\n",
    "    right = pd.DataFrame(encoder.transform(df.loc[:, ['genre_2']]).toarray(), columns=encoder.categories_[0])\n",
    "    \n",
    "    return left + right"
   ]
  },
  {
   "cell_type": "code",
   "execution_count": null,
   "metadata": {},
   "outputs": [],
   "source": [
    "encoder = OneHotEncoder()\n",
    "\n",
    "encoder.fit(all_genres)\n",
    "my_encoding(ign_games, encoder)"
   ]
  },
  {
   "cell_type": "code",
   "execution_count": null,
   "metadata": {},
   "outputs": [],
   "source": [
    "ign_games = pd.concat([ign_games, my_encoding(ign_games, encoder)], axis=1)"
   ]
  },
  {
   "cell_type": "markdown",
   "metadata": {},
   "source": [
    "# Adjusting `URL` columns"
   ]
  },
  {
   "cell_type": "code",
   "execution_count": null,
   "metadata": {},
   "outputs": [],
   "source": [
    "ign_games['url'] = ign_games.url.apply(lambda x: 'https://www.ign.com' + x)"
   ]
  },
  {
   "cell_type": "markdown",
   "metadata": {},
   "source": [
    "# Adjusting `Date` columns"
   ]
  },
  {
   "cell_type": "code",
   "execution_count": null,
   "metadata": {},
   "outputs": [],
   "source": [
    "ign_games['release_date'] = pd.to_datetime(dict(day=ign_games.release_day, month=ign_games.release_month,year=ign_games.release_year)).dt.strftime('%d/%m/%Y')"
   ]
  },
  {
   "cell_type": "markdown",
   "metadata": {},
   "source": [
    "# Removing unnused columns"
   ]
  },
  {
   "cell_type": "code",
   "execution_count": null,
   "metadata": {},
   "outputs": [],
   "source": [
    "ign_games.drop(columns=['genre_1','genre_2','platform','generic_plat','release_year','release_month','release_day'],inplace=True)"
   ]
  },
  {
   "cell_type": "code",
   "execution_count": null,
   "metadata": {},
   "outputs": [],
   "source": [
    "ign_games.columns"
   ]
  },
  {
   "cell_type": "code",
   "execution_count": null,
   "metadata": {},
   "outputs": [],
   "source": [
    "order_cols = ['title', 'release_date', 'score', 'score_phrase', 'editors_choice','all_plat',\n",
    "           'genre','url','old_game', 'critic_high_score' ,'Sony', 'Microsoft','Nintendo', \n",
    "           'Portable', 'Old_Consoles', 'Mobile', 'PC', 'Others_Plat', 'Playstation_4',\n",
    "           'Xbox_One','Wii_U','Action', 'Adult','Adventure', 'Baseball', 'Battle', 'Board',\n",
    "            'Card','Casino', 'Compilation',  'Editor', 'Educational', 'Episodic', 'Fighting',\n",
    "              'First-Person', 'Flight', 'Golf', 'Hardware', 'Hunting', 'Music', 'Other', 'Party',\n",
    "              'Pet', 'Pinball',  'Platformer', 'Productivity', 'Puzzle', 'RPG', 'Racing', 'Shooter',\n",
    "              'Simulation','Sports', 'Strategy', 'Trivia', 'Virtual', 'Word', 'Wrestling']"
   ]
  },
  {
   "cell_type": "code",
   "execution_count": null,
   "metadata": {},
   "outputs": [],
   "source": [
    "ign_games = ign_games.reindex(columns=order_cols)"
   ]
  },
  {
   "cell_type": "markdown",
   "metadata": {},
   "source": [
    "# Adjusting values"
   ]
  },
  {
   "cell_type": "code",
   "execution_count": null,
   "metadata": {},
   "outputs": [],
   "source": [
    "def binary_value(value):\n",
    "    return 0 if value < 1 else 1"
   ]
  },
  {
   "cell_type": "code",
   "execution_count": null,
   "metadata": {},
   "outputs": [],
   "source": [
    "data_cols = ['old_game', 'critic_high_score' ,'Sony', 'Microsoft','Nintendo', \n",
    "               'Portable', 'Old_Consoles', 'Mobile', 'PC', 'Others_Plat','Playstation_4',\n",
    "              'Xbox_One','Wii_U', 'Action', 'Adult','Adventure', 'Baseball', 'Battle', 'Board',\n",
    "              'Card','Casino', 'Compilation','Editor', 'Educational', 'Episodic', 'Fighting', \n",
    "              'First-Person', 'Flight','Golf', 'Hardware', 'Hunting', 'Music', 'Other', 'Party', \n",
    "              'Pet', 'Pinball', 'Platformer', 'Productivity', 'Puzzle', 'RPG', 'Racing', 'Shooter',\n",
    "              'Simulation','Sports', 'Strategy', 'Trivia', 'Virtual', 'Word', 'Wrestling']\n",
    "\n",
    "ign_games[data_cols] = ign_games[data_cols].applymap(binary_value)"
   ]
  },
  {
   "cell_type": "markdown",
   "metadata": {},
   "source": [
    "# Converting dtype `float` to `int`"
   ]
  },
  {
   "cell_type": "code",
   "execution_count": null,
   "metadata": {},
   "outputs": [],
   "source": [
    "ign_games[data_cols] = ign_games[data_cols].apply(lambda x: x.astype('int'))"
   ]
  },
  {
   "cell_type": "code",
   "execution_count": null,
   "metadata": {},
   "outputs": [],
   "source": [
    "dummy_ign = ign_games.groupby(by='title',as_index=False).max()"
   ]
  },
  {
   "cell_type": "code",
   "execution_count": null,
   "metadata": {},
   "outputs": [],
   "source": [
    "dummy_ign.head(5)"
   ]
  },
  {
   "cell_type": "markdown",
   "metadata": {},
   "source": [
    "# Generating `dummy_ign.csv` file"
   ]
  },
  {
   "cell_type": "code",
   "execution_count": null,
   "metadata": {},
   "outputs": [],
   "source": [
    "dummy_ign.to_csv('dummy_ign.csv',sep='|',index=False)"
   ]
  }
 ],
 "metadata": {
  "kernelspec": {
   "display_name": "Python 3",
   "language": "python",
   "name": "python3"
  },
  "language_info": {
   "codemirror_mode": {
    "name": "ipython",
    "version": 3
   },
   "file_extension": ".py",
   "mimetype": "text/x-python",
   "name": "python",
   "nbconvert_exporter": "python",
   "pygments_lexer": "ipython3",
   "version": "3.8.3"
  }
 },
 "nbformat": 4,
 "nbformat_minor": 4
}
