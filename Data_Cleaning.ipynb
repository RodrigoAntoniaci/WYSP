{
 "cells": [
  {
   "cell_type": "markdown",
   "metadata": {},
   "source": [
    "# What Should I Play?"
   ]
  },
  {
   "cell_type": "markdown",
   "metadata": {},
   "source": [
    "# Library"
   ]
  },
  {
   "cell_type": "code",
   "execution_count": 1,
   "metadata": {},
   "outputs": [],
   "source": [
    "import pandas as pd\n",
    "import numpy as np\n",
    "import seaborn as sns\n",
    "from sklearn.preprocessing import OneHotEncoder"
   ]
  },
  {
   "cell_type": "markdown",
   "metadata": {},
   "source": [
    "# Load dataframe"
   ]
  },
  {
   "cell_type": "code",
   "execution_count": 2,
   "metadata": {},
   "outputs": [],
   "source": [
    "ign_games = pd.read_csv('ign.csv', index_col='Unnamed: 0')"
   ]
  },
  {
   "cell_type": "code",
   "execution_count": 3,
   "metadata": {},
   "outputs": [
    {
     "data": {
      "text/html": [
       "<div>\n",
       "<style scoped>\n",
       "    .dataframe tbody tr th:only-of-type {\n",
       "        vertical-align: middle;\n",
       "    }\n",
       "\n",
       "    .dataframe tbody tr th {\n",
       "        vertical-align: top;\n",
       "    }\n",
       "\n",
       "    .dataframe thead th {\n",
       "        text-align: right;\n",
       "    }\n",
       "</style>\n",
       "<table border=\"1\" class=\"dataframe\">\n",
       "  <thead>\n",
       "    <tr style=\"text-align: right;\">\n",
       "      <th></th>\n",
       "      <th>score_phrase</th>\n",
       "      <th>title</th>\n",
       "      <th>url</th>\n",
       "      <th>platform</th>\n",
       "      <th>score</th>\n",
       "      <th>genre</th>\n",
       "      <th>editors_choice</th>\n",
       "      <th>release_year</th>\n",
       "      <th>release_month</th>\n",
       "      <th>release_day</th>\n",
       "    </tr>\n",
       "  </thead>\n",
       "  <tbody>\n",
       "    <tr>\n",
       "      <th>0</th>\n",
       "      <td>Amazing</td>\n",
       "      <td>LittleBigPlanet PS Vita</td>\n",
       "      <td>/games/littlebigplanet-vita/vita-98907</td>\n",
       "      <td>PlayStation Vita</td>\n",
       "      <td>9.0</td>\n",
       "      <td>Platformer</td>\n",
       "      <td>Y</td>\n",
       "      <td>2012</td>\n",
       "      <td>9</td>\n",
       "      <td>12</td>\n",
       "    </tr>\n",
       "    <tr>\n",
       "      <th>1</th>\n",
       "      <td>Amazing</td>\n",
       "      <td>LittleBigPlanet PS Vita -- Marvel Super Hero E...</td>\n",
       "      <td>/games/littlebigplanet-ps-vita-marvel-super-he...</td>\n",
       "      <td>PlayStation Vita</td>\n",
       "      <td>9.0</td>\n",
       "      <td>Platformer</td>\n",
       "      <td>Y</td>\n",
       "      <td>2012</td>\n",
       "      <td>9</td>\n",
       "      <td>12</td>\n",
       "    </tr>\n",
       "    <tr>\n",
       "      <th>2</th>\n",
       "      <td>Great</td>\n",
       "      <td>Splice: Tree of Life</td>\n",
       "      <td>/games/splice/ipad-141070</td>\n",
       "      <td>iPad</td>\n",
       "      <td>8.5</td>\n",
       "      <td>Puzzle</td>\n",
       "      <td>N</td>\n",
       "      <td>2012</td>\n",
       "      <td>9</td>\n",
       "      <td>12</td>\n",
       "    </tr>\n",
       "    <tr>\n",
       "      <th>3</th>\n",
       "      <td>Great</td>\n",
       "      <td>NHL 13</td>\n",
       "      <td>/games/nhl-13/xbox-360-128182</td>\n",
       "      <td>Xbox 360</td>\n",
       "      <td>8.5</td>\n",
       "      <td>Sports</td>\n",
       "      <td>N</td>\n",
       "      <td>2012</td>\n",
       "      <td>9</td>\n",
       "      <td>11</td>\n",
       "    </tr>\n",
       "    <tr>\n",
       "      <th>4</th>\n",
       "      <td>Great</td>\n",
       "      <td>NHL 13</td>\n",
       "      <td>/games/nhl-13/ps3-128181</td>\n",
       "      <td>PlayStation 3</td>\n",
       "      <td>8.5</td>\n",
       "      <td>Sports</td>\n",
       "      <td>N</td>\n",
       "      <td>2012</td>\n",
       "      <td>9</td>\n",
       "      <td>11</td>\n",
       "    </tr>\n",
       "  </tbody>\n",
       "</table>\n",
       "</div>"
      ],
      "text/plain": [
       "  score_phrase                                              title  \\\n",
       "0      Amazing                            LittleBigPlanet PS Vita   \n",
       "1      Amazing  LittleBigPlanet PS Vita -- Marvel Super Hero E...   \n",
       "2        Great                               Splice: Tree of Life   \n",
       "3        Great                                             NHL 13   \n",
       "4        Great                                             NHL 13   \n",
       "\n",
       "                                                 url          platform  score  \\\n",
       "0             /games/littlebigplanet-vita/vita-98907  PlayStation Vita    9.0   \n",
       "1  /games/littlebigplanet-ps-vita-marvel-super-he...  PlayStation Vita    9.0   \n",
       "2                          /games/splice/ipad-141070              iPad    8.5   \n",
       "3                      /games/nhl-13/xbox-360-128182          Xbox 360    8.5   \n",
       "4                           /games/nhl-13/ps3-128181     PlayStation 3    8.5   \n",
       "\n",
       "        genre editors_choice  release_year  release_month  release_day  \n",
       "0  Platformer              Y          2012              9           12  \n",
       "1  Platformer              Y          2012              9           12  \n",
       "2      Puzzle              N          2012              9           12  \n",
       "3      Sports              N          2012              9           11  \n",
       "4      Sports              N          2012              9           11  "
      ]
     },
     "execution_count": 3,
     "metadata": {},
     "output_type": "execute_result"
    }
   ],
   "source": [
    "ign_games.head(5)"
   ]
  },
  {
   "cell_type": "code",
   "execution_count": 4,
   "metadata": {},
   "outputs": [
    {
     "name": "stdout",
     "output_type": "stream",
     "text": [
      "<class 'pandas.core.frame.DataFrame'>\n",
      "Int64Index: 18625 entries, 0 to 18624\n",
      "Data columns (total 10 columns):\n",
      " #   Column          Non-Null Count  Dtype  \n",
      "---  ------          --------------  -----  \n",
      " 0   score_phrase    18625 non-null  object \n",
      " 1   title           18625 non-null  object \n",
      " 2   url             18625 non-null  object \n",
      " 3   platform        18625 non-null  object \n",
      " 4   score           18625 non-null  float64\n",
      " 5   genre           18589 non-null  object \n",
      " 6   editors_choice  18625 non-null  object \n",
      " 7   release_year    18625 non-null  int64  \n",
      " 8   release_month   18625 non-null  int64  \n",
      " 9   release_day     18625 non-null  int64  \n",
      "dtypes: float64(1), int64(3), object(6)\n",
      "memory usage: 1.6+ MB\n"
     ]
    }
   ],
   "source": [
    "ign_games.info()"
   ]
  },
  {
   "cell_type": "code",
   "execution_count": 5,
   "metadata": {},
   "outputs": [
    {
     "data": {
      "text/plain": [
       "<matplotlib.axes._subplots.AxesSubplot at 0x17a80ff34f0>"
      ]
     },
     "execution_count": 5,
     "metadata": {},
     "output_type": "execute_result"
    },
    {
     "data": {
      "image/png": "[encoded data removed]",
      "text/plain": [
       "<Figure size 432x288 with 1 Axes>"
      ]
     },
     "metadata": {
      "needs_background": "light"
     },
     "output_type": "display_data"
    }
   ],
   "source": [
    "sns.distplot(ign_games['release_year'],bins=100)"
   ]
  },
  {
   "cell_type": "markdown",
   "metadata": {},
   "source": [
    "# Removing null lines"
   ]
  },
  {
   "cell_type": "code",
   "execution_count": 6,
   "metadata": {},
   "outputs": [
    {
     "data": {
      "text/plain": [
       "score_phrase       0\n",
       "title              0\n",
       "url                0\n",
       "platform           0\n",
       "score              0\n",
       "genre             36\n",
       "editors_choice     0\n",
       "release_year       0\n",
       "release_month      0\n",
       "release_day        0\n",
       "dtype: int64"
      ]
     },
     "execution_count": 6,
     "metadata": {},
     "output_type": "execute_result"
    }
   ],
   "source": [
    "ign_games.isnull().sum()"
   ]
  },
  {
   "cell_type": "code",
   "execution_count": 7,
   "metadata": {},
   "outputs": [],
   "source": [
    "ign_games.dropna(inplace=True,)"
   ]
  },
  {
   "cell_type": "markdown",
   "metadata": {},
   "source": [
    "# Adjusting Index"
   ]
  },
  {
   "cell_type": "code",
   "execution_count": 8,
   "metadata": {},
   "outputs": [],
   "source": [
    "ign_games.reset_index(inplace=True,drop=True)"
   ]
  },
  {
   "cell_type": "markdown",
   "metadata": {},
   "source": [
    "# Creating `old school` column"
   ]
  },
  {
   "cell_type": "code",
   "execution_count": 9,
   "metadata": {},
   "outputs": [],
   "source": [
    "ign_games['old_game']  = ign_games.release_year.apply(lambda x: 1 if x <= 2000 else 0)"
   ]
  },
  {
   "cell_type": "markdown",
   "metadata": {},
   "source": [
    "# Creating `critic score` column"
   ]
  },
  {
   "cell_type": "code",
   "execution_count": 10,
   "metadata": {},
   "outputs": [],
   "source": [
    "ign_games['critic_high_score'] = ign_games.score.apply(lambda x: 1 if x >= 8.5 else 0)"
   ]
  },
  {
   "cell_type": "markdown",
   "metadata": {},
   "source": [
    "# Handling `platforms` columns"
   ]
  },
  {
   "cell_type": "markdown",
   "metadata": {},
   "source": [
    "## Compiled platform column"
   ]
  },
  {
   "cell_type": "code",
   "execution_count": 11,
   "metadata": {},
   "outputs": [],
   "source": [
    "ign_games['all_plat'] = None"
   ]
  },
  {
   "cell_type": "code",
   "execution_count": 12,
   "metadata": {},
   "outputs": [],
   "source": [
    "for index in ign_games.index:\n",
    "    ign_games.at[index,'all_plat'] = list(ign_games['platform'].loc[ign_games.title == ign_games.title.iloc[index]])"
   ]
  },
  {
   "cell_type": "markdown",
   "metadata": {},
   "source": [
    "## Generalizing platforms"
   ]
  },
  {
   "cell_type": "code",
   "execution_count": 13,
   "metadata": {},
   "outputs": [],
   "source": [
    "transf_plat = {key:'' for key in ign_games.platform.unique()}\n",
    "for key,value in transf_plat.items():\n",
    "    if key == 'iPhone' or key == 'iPad' or key =='Windows Phone' or key =='Android':\n",
    "        transf_plat[key] = 'Mobile'\n",
    "    elif key == 'Linux' or key == 'PC' or key == 'Macintosh' or key == 'Windows Surface' or key == 'Pocket PC' or key == 'SteamOS':\n",
    "        transf_plat[key] = 'PC'\n",
    "    elif key == 'PlayStation Vita' or key == 'Nintendo DS' or key == 'Nintendo 3DS' or key == 'New Nintendo 3DS' or key == 'Game Boy Color' or key == 'PlayStation Portable':\n",
    "        transf_plat[key] = 'Portable'\n",
    "    elif key == 'Xbox 360' or key == 'PlayStation 3' or key == 'PlayStation 4' or key == 'PlayStation' or key == 'PlayStation 2' or key == 'Wii U' or key == 'Wii' or key == 'Xbox' or key == 'Xbox One':\n",
    "        transf_plat[key] = key\n",
    "    elif key == 'Lynx' or key == 'Game.Com' or key == 'Arcade' or key == 'DVD / HD Video Game' or key == 'Wireless' or key == 'iPod' or key == 'Web Games' or key == 'Ouya':\n",
    "        transf_plat[key] = 'Others'\n",
    "    else:\n",
    "        transf_plat[key] = 'Old Consoles'       \n",
    "ign_games['generic_plat'] = ign_games.platform.map(transf_plat)"
   ]
  },
  {
   "cell_type": "markdown",
   "metadata": {},
   "source": [
    "## Separating platforms in sectors"
   ]
  },
  {
   "cell_type": "code",
   "execution_count": 14,
   "metadata": {},
   "outputs": [],
   "source": [
    "playstation = {'PlayStation': 1, 'PlayStation 2': 1, 'PlayStation 3': 1, 'PlayStation 4': 1}\n",
    "xbox = {'Xbox': 1,'Xbox 360': 1,'Xbox One': 1}\n",
    "nintento = {'Wii':1, 'Wii U': 1}\n",
    "portable = {'Portable': 1}\n",
    "old_console = {'Old Consoles': 1}\n",
    "mobile = {'Mobile': 1}\n",
    "pc = {'PC': 1}\n",
    "others = {'Others': 1}\n",
    "play4 = {'PlayStation 4': 1}\n",
    "xone = {'Xbox One': 1}\n",
    "wiiu = {'Wii U': 2}\n",
    "\n",
    "ign_games['Sony'] = ign_games.generic_plat.map(playstation)\n",
    "ign_games['Microsoft'] = ign_games.generic_plat.map(xbox)\n",
    "ign_games['Nintendo'] = ign_games.generic_plat.map(nintento)\n",
    "ign_games['Portable'] = ign_games.generic_plat.map(portable)\n",
    "ign_games['Old_Consoles'] = ign_games.generic_plat.map(old_console)\n",
    "ign_games['Mobile'] = ign_games.generic_plat.map(mobile)\n",
    "ign_games['PC'] = ign_games.generic_plat.map(pc)\n",
    "ign_games['Others_Plat'] = ign_games.generic_plat.map(others)\n",
    "ign_games['Playstation_4'] = ign_games.generic_plat.map(play4)\n",
    "ign_games['Xbox_One'] = ign_games.generic_plat.map(xone)\n",
    "ign_games['Wii_U'] = ign_games.generic_plat.map(wiiu)"
   ]
  },
  {
   "cell_type": "code",
   "execution_count": 15,
   "metadata": {},
   "outputs": [],
   "source": [
    "ign_games.fillna(value=0,inplace=True)"
   ]
  },
  {
   "cell_type": "code",
   "execution_count": 16,
   "metadata": {},
   "outputs": [],
   "source": [
    "ign_games[['Sony','Microsoft','Nintendo','Portable','Old_Consoles','Mobile','PC','Others_Plat','Playstation_4','Xbox_One','Wii_U']] = ign_games[['Sony','Microsoft','Nintendo','Portable','Old_Consoles','Mobile','PC','Others_Plat','Playstation_4','Xbox_One','Wii_U']].apply(lambda x: x.astype('int'))"
   ]
  },
  {
   "cell_type": "markdown",
   "metadata": {},
   "source": [
    "# Spliting genres in columns `genre_1` and `genre_2`"
   ]
  },
  {
   "cell_type": "code",
   "execution_count": 17,
   "metadata": {},
   "outputs": [],
   "source": [
    "def adj_genre(genre,position):\n",
    "    try:\n",
    "        value = genre.split()[position].replace(',','')\n",
    "        return value\n",
    "    except:\n",
    "        return genre"
   ]
  },
  {
   "cell_type": "code",
   "execution_count": 18,
   "metadata": {},
   "outputs": [],
   "source": [
    "ign_games['genre_1'] = ign_games.genre.apply(lambda x: adj_genre(x,0))\n",
    "ign_games['genre_2'] = ign_games.genre.apply(lambda x: adj_genre(x,1))"
   ]
  },
  {
   "cell_type": "markdown",
   "metadata": {},
   "source": [
    "# Creating Genres Dummies Columns"
   ]
  },
  {
   "cell_type": "code",
   "execution_count": 19,
   "metadata": {},
   "outputs": [],
   "source": [
    "all_genres = list(set(list(ign_games['genre_1'].unique()) + list(ign_games['genre_2'].unique())))\n",
    "all_genres = np.array(all_genres).reshape(-1, 1)"
   ]
  },
  {
   "cell_type": "code",
   "execution_count": 20,
   "metadata": {},
   "outputs": [],
   "source": [
    "def my_encoding(df, encoder):\n",
    "    left = pd.DataFrame(encoder.transform(df.loc[:, ['genre_1']]).toarray(), columns=encoder.categories_[0])\n",
    "    right = pd.DataFrame(encoder.transform(df.loc[:, ['genre_2']]).toarray(), columns=encoder.categories_[0])\n",
    "    \n",
    "    return left + right"
   ]
  },
  {
   "cell_type": "code",
   "execution_count": 21,
   "metadata": {},
   "outputs": [
    {
     "data": {
      "text/html": [
       "<div>\n",
       "<style scoped>\n",
       "    .dataframe tbody tr th:only-of-type {\n",
       "        vertical-align: middle;\n",
       "    }\n",
       "\n",
       "    .dataframe tbody tr th {\n",
       "        vertical-align: top;\n",
       "    }\n",
       "\n",
       "    .dataframe thead th {\n",
       "        text-align: right;\n",
       "    }\n",
       "</style>\n",
       "<table border=\"1\" class=\"dataframe\">\n",
       "  <thead>\n",
       "    <tr style=\"text-align: right;\">\n",
       "      <th></th>\n",
       "      <th>Action</th>\n",
       "      <th>Adult</th>\n",
       "      <th>Adventure</th>\n",
       "      <th>Baseball</th>\n",
       "      <th>Battle</th>\n",
       "      <th>Board</th>\n",
       "      <th>Card</th>\n",
       "      <th>Casino</th>\n",
       "      <th>Compilation</th>\n",
       "      <th>Editor</th>\n",
       "      <th>...</th>\n",
       "      <th>RPG</th>\n",
       "      <th>Racing</th>\n",
       "      <th>Shooter</th>\n",
       "      <th>Simulation</th>\n",
       "      <th>Sports</th>\n",
       "      <th>Strategy</th>\n",
       "      <th>Trivia</th>\n",
       "      <th>Virtual</th>\n",
       "      <th>Word</th>\n",
       "      <th>Wrestling</th>\n",
       "    </tr>\n",
       "  </thead>\n",
       "  <tbody>\n",
       "    <tr>\n",
       "      <th>0</th>\n",
       "      <td>0.0</td>\n",
       "      <td>0.0</td>\n",
       "      <td>0.0</td>\n",
       "      <td>0.0</td>\n",
       "      <td>0.0</td>\n",
       "      <td>0.0</td>\n",
       "      <td>0.0</td>\n",
       "      <td>0.0</td>\n",
       "      <td>0.0</td>\n",
       "      <td>0.0</td>\n",
       "      <td>...</td>\n",
       "      <td>0.0</td>\n",
       "      <td>0.0</td>\n",
       "      <td>0.0</td>\n",
       "      <td>0.0</td>\n",
       "      <td>0.0</td>\n",
       "      <td>0.0</td>\n",
       "      <td>0.0</td>\n",
       "      <td>0.0</td>\n",
       "      <td>0.0</td>\n",
       "      <td>0.0</td>\n",
       "    </tr>\n",
       "    <tr>\n",
       "      <th>1</th>\n",
       "      <td>0.0</td>\n",
       "      <td>0.0</td>\n",
       "      <td>0.0</td>\n",
       "      <td>0.0</td>\n",
       "      <td>0.0</td>\n",
       "      <td>0.0</td>\n",
       "      <td>0.0</td>\n",
       "      <td>0.0</td>\n",
       "      <td>0.0</td>\n",
       "      <td>0.0</td>\n",
       "      <td>...</td>\n",
       "      <td>0.0</td>\n",
       "      <td>0.0</td>\n",
       "      <td>0.0</td>\n",
       "      <td>0.0</td>\n",
       "      <td>0.0</td>\n",
       "      <td>0.0</td>\n",
       "      <td>0.0</td>\n",
       "      <td>0.0</td>\n",
       "      <td>0.0</td>\n",
       "      <td>0.0</td>\n",
       "    </tr>\n",
       "    <tr>\n",
       "      <th>2</th>\n",
       "      <td>0.0</td>\n",
       "      <td>0.0</td>\n",
       "      <td>0.0</td>\n",
       "      <td>0.0</td>\n",
       "      <td>0.0</td>\n",
       "      <td>0.0</td>\n",
       "      <td>0.0</td>\n",
       "      <td>0.0</td>\n",
       "      <td>0.0</td>\n",
       "      <td>0.0</td>\n",
       "      <td>...</td>\n",
       "      <td>0.0</td>\n",
       "      <td>0.0</td>\n",
       "      <td>0.0</td>\n",
       "      <td>0.0</td>\n",
       "      <td>0.0</td>\n",
       "      <td>0.0</td>\n",
       "      <td>0.0</td>\n",
       "      <td>0.0</td>\n",
       "      <td>0.0</td>\n",
       "      <td>0.0</td>\n",
       "    </tr>\n",
       "    <tr>\n",
       "      <th>3</th>\n",
       "      <td>0.0</td>\n",
       "      <td>0.0</td>\n",
       "      <td>0.0</td>\n",
       "      <td>0.0</td>\n",
       "      <td>0.0</td>\n",
       "      <td>0.0</td>\n",
       "      <td>0.0</td>\n",
       "      <td>0.0</td>\n",
       "      <td>0.0</td>\n",
       "      <td>0.0</td>\n",
       "      <td>...</td>\n",
       "      <td>0.0</td>\n",
       "      <td>0.0</td>\n",
       "      <td>0.0</td>\n",
       "      <td>0.0</td>\n",
       "      <td>2.0</td>\n",
       "      <td>0.0</td>\n",
       "      <td>0.0</td>\n",
       "      <td>0.0</td>\n",
       "      <td>0.0</td>\n",
       "      <td>0.0</td>\n",
       "    </tr>\n",
       "    <tr>\n",
       "      <th>4</th>\n",
       "      <td>0.0</td>\n",
       "      <td>0.0</td>\n",
       "      <td>0.0</td>\n",
       "      <td>0.0</td>\n",
       "      <td>0.0</td>\n",
       "      <td>0.0</td>\n",
       "      <td>0.0</td>\n",
       "      <td>0.0</td>\n",
       "      <td>0.0</td>\n",
       "      <td>0.0</td>\n",
       "      <td>...</td>\n",
       "      <td>0.0</td>\n",
       "      <td>0.0</td>\n",
       "      <td>0.0</td>\n",
       "      <td>0.0</td>\n",
       "      <td>2.0</td>\n",
       "      <td>0.0</td>\n",
       "      <td>0.0</td>\n",
       "      <td>0.0</td>\n",
       "      <td>0.0</td>\n",
       "      <td>0.0</td>\n",
       "    </tr>\n",
       "    <tr>\n",
       "      <th>...</th>\n",
       "      <td>...</td>\n",
       "      <td>...</td>\n",
       "      <td>...</td>\n",
       "      <td>...</td>\n",
       "      <td>...</td>\n",
       "      <td>...</td>\n",
       "      <td>...</td>\n",
       "      <td>...</td>\n",
       "      <td>...</td>\n",
       "      <td>...</td>\n",
       "      <td>...</td>\n",
       "      <td>...</td>\n",
       "      <td>...</td>\n",
       "      <td>...</td>\n",
       "      <td>...</td>\n",
       "      <td>...</td>\n",
       "      <td>...</td>\n",
       "      <td>...</td>\n",
       "      <td>...</td>\n",
       "      <td>...</td>\n",
       "      <td>...</td>\n",
       "    </tr>\n",
       "    <tr>\n",
       "      <th>18584</th>\n",
       "      <td>0.0</td>\n",
       "      <td>0.0</td>\n",
       "      <td>0.0</td>\n",
       "      <td>0.0</td>\n",
       "      <td>0.0</td>\n",
       "      <td>0.0</td>\n",
       "      <td>0.0</td>\n",
       "      <td>0.0</td>\n",
       "      <td>0.0</td>\n",
       "      <td>0.0</td>\n",
       "      <td>...</td>\n",
       "      <td>2.0</td>\n",
       "      <td>0.0</td>\n",
       "      <td>0.0</td>\n",
       "      <td>0.0</td>\n",
       "      <td>0.0</td>\n",
       "      <td>0.0</td>\n",
       "      <td>0.0</td>\n",
       "      <td>0.0</td>\n",
       "      <td>0.0</td>\n",
       "      <td>0.0</td>\n",
       "    </tr>\n",
       "    <tr>\n",
       "      <th>18585</th>\n",
       "      <td>1.0</td>\n",
       "      <td>0.0</td>\n",
       "      <td>1.0</td>\n",
       "      <td>0.0</td>\n",
       "      <td>0.0</td>\n",
       "      <td>0.0</td>\n",
       "      <td>0.0</td>\n",
       "      <td>0.0</td>\n",
       "      <td>0.0</td>\n",
       "      <td>0.0</td>\n",
       "      <td>...</td>\n",
       "      <td>0.0</td>\n",
       "      <td>0.0</td>\n",
       "      <td>0.0</td>\n",
       "      <td>0.0</td>\n",
       "      <td>0.0</td>\n",
       "      <td>0.0</td>\n",
       "      <td>0.0</td>\n",
       "      <td>0.0</td>\n",
       "      <td>0.0</td>\n",
       "      <td>0.0</td>\n",
       "    </tr>\n",
       "    <tr>\n",
       "      <th>18586</th>\n",
       "      <td>0.0</td>\n",
       "      <td>0.0</td>\n",
       "      <td>0.0</td>\n",
       "      <td>0.0</td>\n",
       "      <td>0.0</td>\n",
       "      <td>0.0</td>\n",
       "      <td>0.0</td>\n",
       "      <td>0.0</td>\n",
       "      <td>0.0</td>\n",
       "      <td>0.0</td>\n",
       "      <td>...</td>\n",
       "      <td>2.0</td>\n",
       "      <td>0.0</td>\n",
       "      <td>0.0</td>\n",
       "      <td>0.0</td>\n",
       "      <td>0.0</td>\n",
       "      <td>0.0</td>\n",
       "      <td>0.0</td>\n",
       "      <td>0.0</td>\n",
       "      <td>0.0</td>\n",
       "      <td>0.0</td>\n",
       "    </tr>\n",
       "    <tr>\n",
       "      <th>18587</th>\n",
       "      <td>0.0</td>\n",
       "      <td>0.0</td>\n",
       "      <td>2.0</td>\n",
       "      <td>0.0</td>\n",
       "      <td>0.0</td>\n",
       "      <td>0.0</td>\n",
       "      <td>0.0</td>\n",
       "      <td>0.0</td>\n",
       "      <td>0.0</td>\n",
       "      <td>0.0</td>\n",
       "      <td>...</td>\n",
       "      <td>0.0</td>\n",
       "      <td>0.0</td>\n",
       "      <td>0.0</td>\n",
       "      <td>0.0</td>\n",
       "      <td>0.0</td>\n",
       "      <td>0.0</td>\n",
       "      <td>0.0</td>\n",
       "      <td>0.0</td>\n",
       "      <td>0.0</td>\n",
       "      <td>0.0</td>\n",
       "    </tr>\n",
       "    <tr>\n",
       "      <th>18588</th>\n",
       "      <td>0.0</td>\n",
       "      <td>0.0</td>\n",
       "      <td>2.0</td>\n",
       "      <td>0.0</td>\n",
       "      <td>0.0</td>\n",
       "      <td>0.0</td>\n",
       "      <td>0.0</td>\n",
       "      <td>0.0</td>\n",
       "      <td>0.0</td>\n",
       "      <td>0.0</td>\n",
       "      <td>...</td>\n",
       "      <td>0.0</td>\n",
       "      <td>0.0</td>\n",
       "      <td>0.0</td>\n",
       "      <td>0.0</td>\n",
       "      <td>0.0</td>\n",
       "      <td>0.0</td>\n",
       "      <td>0.0</td>\n",
       "      <td>0.0</td>\n",
       "      <td>0.0</td>\n",
       "      <td>0.0</td>\n",
       "    </tr>\n",
       "  </tbody>\n",
       "</table>\n",
       "<p>18589 rows × 36 columns</p>\n",
       "</div>"
      ],
      "text/plain": [
       "       Action  Adult  Adventure  Baseball  Battle  Board  Card  Casino  \\\n",
       "0         0.0    0.0        0.0       0.0     0.0    0.0   0.0     0.0   \n",
       "1         0.0    0.0        0.0       0.0     0.0    0.0   0.0     0.0   \n",
       "2         0.0    0.0        0.0       0.0     0.0    0.0   0.0     0.0   \n",
       "3         0.0    0.0        0.0       0.0     0.0    0.0   0.0     0.0   \n",
       "4         0.0    0.0        0.0       0.0     0.0    0.0   0.0     0.0   \n",
       "...       ...    ...        ...       ...     ...    ...   ...     ...   \n",
       "18584     0.0    0.0        0.0       0.0     0.0    0.0   0.0     0.0   \n",
       "18585     1.0    0.0        1.0       0.0     0.0    0.0   0.0     0.0   \n",
       "18586     0.0    0.0        0.0       0.0     0.0    0.0   0.0     0.0   \n",
       "18587     0.0    0.0        2.0       0.0     0.0    0.0   0.0     0.0   \n",
       "18588     0.0    0.0        2.0       0.0     0.0    0.0   0.0     0.0   \n",
       "\n",
       "       Compilation  Editor  ...  RPG  Racing  Shooter  Simulation  Sports  \\\n",
       "0              0.0     0.0  ...  0.0     0.0      0.0         0.0     0.0   \n",
       "1              0.0     0.0  ...  0.0     0.0      0.0         0.0     0.0   \n",
       "2              0.0     0.0  ...  0.0     0.0      0.0         0.0     0.0   \n",
       "3              0.0     0.0  ...  0.0     0.0      0.0         0.0     2.0   \n",
       "4              0.0     0.0  ...  0.0     0.0      0.0         0.0     2.0   \n",
       "...            ...     ...  ...  ...     ...      ...         ...     ...   \n",
       "18584          0.0     0.0  ...  2.0     0.0      0.0         0.0     0.0   \n",
       "18585          0.0     0.0  ...  0.0     0.0      0.0         0.0     0.0   \n",
       "18586          0.0     0.0  ...  2.0     0.0      0.0         0.0     0.0   \n",
       "18587          0.0     0.0  ...  0.0     0.0      0.0         0.0     0.0   \n",
       "18588          0.0     0.0  ...  0.0     0.0      0.0         0.0     0.0   \n",
       "\n",
       "       Strategy  Trivia  Virtual  Word  Wrestling  \n",
       "0           0.0     0.0      0.0   0.0        0.0  \n",
       "1           0.0     0.0      0.0   0.0        0.0  \n",
       "2           0.0     0.0      0.0   0.0        0.0  \n",
       "3           0.0     0.0      0.0   0.0        0.0  \n",
       "4           0.0     0.0      0.0   0.0        0.0  \n",
       "...         ...     ...      ...   ...        ...  \n",
       "18584       0.0     0.0      0.0   0.0        0.0  \n",
       "18585       0.0     0.0      0.0   0.0        0.0  \n",
       "18586       0.0     0.0      0.0   0.0        0.0  \n",
       "18587       0.0     0.0      0.0   0.0        0.0  \n",
       "18588       0.0     0.0      0.0   0.0        0.0  \n",
       "\n",
       "[18589 rows x 36 columns]"
      ]
     },
     "execution_count": 21,
     "metadata": {},
     "output_type": "execute_result"
    }
   ],
   "source": [
    "encoder = OneHotEncoder()\n",
    "\n",
    "encoder.fit(all_genres)\n",
    "my_encoding(ign_games, encoder)"
   ]
  },
  {
   "cell_type": "code",
   "execution_count": 22,
   "metadata": {},
   "outputs": [],
   "source": [
    "ign_games = pd.concat([ign_games, my_encoding(ign_games, encoder)], axis=1)"
   ]
  },
  {
   "cell_type": "markdown",
   "metadata": {},
   "source": [
    "# Adjusting `URL` columns"
   ]
  },
  {
   "cell_type": "code",
   "execution_count": 23,
   "metadata": {},
   "outputs": [],
   "source": [
    "ign_games['url'] = ign_games.url.apply(lambda x: 'https://www.ign.com' + x)"
   ]
  },
  {
   "cell_type": "markdown",
   "metadata": {},
   "source": [
    "# Adjusting `Date` columns"
   ]
  },
  {
   "cell_type": "code",
   "execution_count": 24,
   "metadata": {},
   "outputs": [],
   "source": [
    "ign_games['release_date'] = pd.to_datetime(dict(day=ign_games.release_day, month=ign_games.release_month,year=ign_games.release_year)).dt.strftime('%d/%m/%Y')"
   ]
  },
  {
   "cell_type": "markdown",
   "metadata": {},
   "source": [
    "# Removing unnused columns"
   ]
  },
  {
   "cell_type": "code",
   "execution_count": 25,
   "metadata": {},
   "outputs": [],
   "source": [
    "ign_games.drop(columns=['genre_1','genre_2','platform','generic_plat','release_year','release_month','release_day'],inplace=True)"
   ]
  },
  {
   "cell_type": "code",
   "execution_count": 26,
   "metadata": {},
   "outputs": [
    {
     "data": {
      "text/plain": [
       "Index(['score_phrase', 'title', 'url', 'score', 'genre', 'editors_choice',\n",
       "       'old_game', 'critic_high_score', 'all_plat', 'Sony', 'Microsoft',\n",
       "       'Nintendo', 'Portable', 'Old_Consoles', 'Mobile', 'PC', 'Others_Plat',\n",
       "       'Playstation_4', 'Xbox_One', 'Wii_U', 'Action', 'Adult', 'Adventure',\n",
       "       'Baseball', 'Battle', 'Board', 'Card', 'Casino', 'Compilation',\n",
       "       'Editor', 'Educational', 'Episodic', 'Fighting', 'First-Person',\n",
       "       'Flight', 'Golf', 'Hardware', 'Hunting', 'Music', 'Other', 'Party',\n",
       "       'Pet', 'Pinball', 'Platformer', 'Productivity', 'Puzzle', 'RPG',\n",
       "       'Racing', 'Shooter', 'Simulation', 'Sports', 'Strategy', 'Trivia',\n",
       "       'Virtual', 'Word', 'Wrestling', 'release_date'],\n",
       "      dtype='object')"
      ]
     },
     "execution_count": 26,
     "metadata": {},
     "output_type": "execute_result"
    }
   ],
   "source": [
    "ign_games.columns"
   ]
  },
  {
   "cell_type": "code",
   "execution_count": 27,
   "metadata": {},
   "outputs": [],
   "source": [
    "order_cols = ['title', 'release_date', 'score', 'score_phrase', 'editors_choice','all_plat',\n",
    "           'genre','url','old_game', 'critic_high_score' ,'Sony', 'Microsoft','Nintendo', \n",
    "           'Portable', 'Old_Consoles', 'Mobile', 'PC', 'Others_Plat', 'Playstation_4',\n",
    "           'Xbox_One','Wii_U','Action', 'Adult','Adventure', 'Baseball', 'Battle', 'Board',\n",
    "            'Card','Casino', 'Compilation',  'Editor', 'Educational', 'Episodic', 'Fighting',\n",
    "              'First-Person', 'Flight', 'Golf', 'Hardware', 'Hunting', 'Music', 'Other', 'Party',\n",
    "              'Pet', 'Pinball',  'Platformer', 'Productivity', 'Puzzle', 'RPG', 'Racing', 'Shooter',\n",
    "              'Simulation','Sports', 'Strategy', 'Trivia', 'Virtual', 'Word', 'Wrestling']"
   ]
  },
  {
   "cell_type": "code",
   "execution_count": 28,
   "metadata": {},
   "outputs": [],
   "source": [
    "ign_games = ign_games.reindex(columns=order_cols)"
   ]
  },
  {
   "cell_type": "markdown",
   "metadata": {},
   "source": [
    "# Adjusting values"
   ]
  },
  {
   "cell_type": "code",
   "execution_count": 29,
   "metadata": {},
   "outputs": [],
   "source": [
    "def binary_value(value):\n",
    "    return 0 if value < 1 else 1"
   ]
  },
  {
   "cell_type": "code",
   "execution_count": 30,
   "metadata": {},
   "outputs": [],
   "source": [
    "data_cols = ['old_game', 'critic_high_score' ,'Sony', 'Microsoft','Nintendo', \n",
    "               'Portable', 'Old_Consoles', 'Mobile', 'PC', 'Others_Plat','Playstation_4',\n",
    "              'Xbox_One','Wii_U', 'Action', 'Adult','Adventure', 'Baseball', 'Battle', 'Board',\n",
    "              'Card','Casino', 'Compilation','Editor', 'Educational', 'Episodic', 'Fighting', \n",
    "              'First-Person', 'Flight','Golf', 'Hardware', 'Hunting', 'Music', 'Other', 'Party', \n",
    "              'Pet', 'Pinball', 'Platformer', 'Productivity', 'Puzzle', 'RPG', 'Racing', 'Shooter',\n",
    "              'Simulation','Sports', 'Strategy', 'Trivia', 'Virtual', 'Word', 'Wrestling']\n",
    "\n",
    "ign_games[data_cols] = ign_games[data_cols].applymap(binary_value)"
   ]
  },
  {
   "cell_type": "markdown",
   "metadata": {},
   "source": [
    "# Converting dtype `float` to `int`"
   ]
  },
  {
   "cell_type": "code",
   "execution_count": 31,
   "metadata": {},
   "outputs": [],
   "source": [
    "ign_games[data_cols] = ign_games[data_cols].apply(lambda x: x.astype('int'))"
   ]
  },
  {
   "cell_type": "code",
   "execution_count": 32,
   "metadata": {},
   "outputs": [],
   "source": [
    "dummy_ign = ign_games.groupby(by='title',as_index=False).max()"
   ]
  },
  {
   "cell_type": "markdown",
   "metadata": {},
   "source": [
    "# dummy_ign.info()"
   ]
  },
  {
   "cell_type": "code",
   "execution_count": 35,
   "metadata": {},
   "outputs": [
    {
     "data": {
      "text/html": [
       "<div>\n",
       "<style scoped>\n",
       "    .dataframe tbody tr th:only-of-type {\n",
       "        vertical-align: middle;\n",
       "    }\n",
       "\n",
       "    .dataframe tbody tr th {\n",
       "        vertical-align: top;\n",
       "    }\n",
       "\n",
       "    .dataframe thead th {\n",
       "        text-align: right;\n",
       "    }\n",
       "</style>\n",
       "<table border=\"1\" class=\"dataframe\">\n",
       "  <thead>\n",
       "    <tr style=\"text-align: right;\">\n",
       "      <th></th>\n",
       "      <th>title</th>\n",
       "      <th>release_date</th>\n",
       "      <th>score</th>\n",
       "      <th>score_phrase</th>\n",
       "      <th>editors_choice</th>\n",
       "      <th>all_plat</th>\n",
       "      <th>genre</th>\n",
       "      <th>url</th>\n",
       "      <th>old_game</th>\n",
       "      <th>critic_high_score</th>\n",
       "      <th>...</th>\n",
       "      <th>RPG</th>\n",
       "      <th>Racing</th>\n",
       "      <th>Shooter</th>\n",
       "      <th>Simulation</th>\n",
       "      <th>Sports</th>\n",
       "      <th>Strategy</th>\n",
       "      <th>Trivia</th>\n",
       "      <th>Virtual</th>\n",
       "      <th>Word</th>\n",
       "      <th>Wrestling</th>\n",
       "    </tr>\n",
       "  </thead>\n",
       "  <tbody>\n",
       "    <tr>\n",
       "      <th>0</th>\n",
       "      <td>#IDARB</td>\n",
       "      <td>14/01/2015</td>\n",
       "      <td>7.5</td>\n",
       "      <td>Good</td>\n",
       "      <td>N</td>\n",
       "      <td>[Xbox One]</td>\n",
       "      <td>Party</td>\n",
       "      <td>https://www.ign.com/games/it-draws-a-red-box/x...</td>\n",
       "      <td>0</td>\n",
       "      <td>0</td>\n",
       "      <td>...</td>\n",
       "      <td>0</td>\n",
       "      <td>0</td>\n",
       "      <td>0</td>\n",
       "      <td>0</td>\n",
       "      <td>0</td>\n",
       "      <td>0</td>\n",
       "      <td>0</td>\n",
       "      <td>0</td>\n",
       "      <td>0</td>\n",
       "      <td>0</td>\n",
       "    </tr>\n",
       "    <tr>\n",
       "      <th>1</th>\n",
       "      <td>'Splosion Man</td>\n",
       "      <td>17/07/2009</td>\n",
       "      <td>9.0</td>\n",
       "      <td>Amazing</td>\n",
       "      <td>Y</td>\n",
       "      <td>[Xbox 360]</td>\n",
       "      <td>Action</td>\n",
       "      <td>https://www.ign.com/games/splosion-man/xbox-36...</td>\n",
       "      <td>0</td>\n",
       "      <td>1</td>\n",
       "      <td>...</td>\n",
       "      <td>0</td>\n",
       "      <td>0</td>\n",
       "      <td>0</td>\n",
       "      <td>0</td>\n",
       "      <td>0</td>\n",
       "      <td>0</td>\n",
       "      <td>0</td>\n",
       "      <td>0</td>\n",
       "      <td>0</td>\n",
       "      <td>0</td>\n",
       "    </tr>\n",
       "    <tr>\n",
       "      <th>2</th>\n",
       "      <td>.deTuned</td>\n",
       "      <td>16/10/2009</td>\n",
       "      <td>4.0</td>\n",
       "      <td>Bad</td>\n",
       "      <td>N</td>\n",
       "      <td>[PlayStation 3]</td>\n",
       "      <td>Other</td>\n",
       "      <td>https://www.ign.com/games/detuned/ps3-14346174</td>\n",
       "      <td>0</td>\n",
       "      <td>0</td>\n",
       "      <td>...</td>\n",
       "      <td>0</td>\n",
       "      <td>0</td>\n",
       "      <td>0</td>\n",
       "      <td>0</td>\n",
       "      <td>0</td>\n",
       "      <td>0</td>\n",
       "      <td>0</td>\n",
       "      <td>0</td>\n",
       "      <td>0</td>\n",
       "      <td>0</td>\n",
       "    </tr>\n",
       "    <tr>\n",
       "      <th>3</th>\n",
       "      <td>.hack//G.U. Vol. 1: Rebirth</td>\n",
       "      <td>05/10/2007</td>\n",
       "      <td>5.0</td>\n",
       "      <td>Mediocre</td>\n",
       "      <td>N</td>\n",
       "      <td>[PlayStation 2]</td>\n",
       "      <td>RPG</td>\n",
       "      <td>https://www.ign.com/games/hackgu-vol-1-rebirth...</td>\n",
       "      <td>0</td>\n",
       "      <td>0</td>\n",
       "      <td>...</td>\n",
       "      <td>1</td>\n",
       "      <td>0</td>\n",
       "      <td>0</td>\n",
       "      <td>0</td>\n",
       "      <td>0</td>\n",
       "      <td>0</td>\n",
       "      <td>0</td>\n",
       "      <td>0</td>\n",
       "      <td>0</td>\n",
       "      <td>0</td>\n",
       "    </tr>\n",
       "    <tr>\n",
       "      <th>4</th>\n",
       "      <td>.hack//G.U. Vol. 2: Reminisce</td>\n",
       "      <td>05/10/2007</td>\n",
       "      <td>5.5</td>\n",
       "      <td>Mediocre</td>\n",
       "      <td>N</td>\n",
       "      <td>[PlayStation 2]</td>\n",
       "      <td>RPG</td>\n",
       "      <td>https://www.ign.com/games/hackgu-vol-2-reminis...</td>\n",
       "      <td>0</td>\n",
       "      <td>0</td>\n",
       "      <td>...</td>\n",
       "      <td>1</td>\n",
       "      <td>0</td>\n",
       "      <td>0</td>\n",
       "      <td>0</td>\n",
       "      <td>0</td>\n",
       "      <td>0</td>\n",
       "      <td>0</td>\n",
       "      <td>0</td>\n",
       "      <td>0</td>\n",
       "      <td>0</td>\n",
       "    </tr>\n",
       "  </tbody>\n",
       "</table>\n",
       "<p>5 rows × 57 columns</p>\n",
       "</div>"
      ],
      "text/plain": [
       "                           title release_date  score score_phrase  \\\n",
       "0                         #IDARB   14/01/2015    7.5         Good   \n",
       "1                  'Splosion Man   17/07/2009    9.0      Amazing   \n",
       "2                       .deTuned   16/10/2009    4.0          Bad   \n",
       "3    .hack//G.U. Vol. 1: Rebirth   05/10/2007    5.0     Mediocre   \n",
       "4  .hack//G.U. Vol. 2: Reminisce   05/10/2007    5.5     Mediocre   \n",
       "\n",
       "  editors_choice         all_plat   genre  \\\n",
       "0              N       [Xbox One]   Party   \n",
       "1              Y       [Xbox 360]  Action   \n",
       "2              N  [PlayStation 3]   Other   \n",
       "3              N  [PlayStation 2]     RPG   \n",
       "4              N  [PlayStation 2]     RPG   \n",
       "\n",
       "                                                 url  old_game  \\\n",
       "0  https://www.ign.com/games/it-draws-a-red-box/x...         0   \n",
       "1  https://www.ign.com/games/splosion-man/xbox-36...         0   \n",
       "2     https://www.ign.com/games/detuned/ps3-14346174         0   \n",
       "3  https://www.ign.com/games/hackgu-vol-1-rebirth...         0   \n",
       "4  https://www.ign.com/games/hackgu-vol-2-reminis...         0   \n",
       "\n",
       "   critic_high_score  ...  RPG  Racing  Shooter  Simulation  Sports  Strategy  \\\n",
       "0                  0  ...    0       0        0           0       0         0   \n",
       "1                  1  ...    0       0        0           0       0         0   \n",
       "2                  0  ...    0       0        0           0       0         0   \n",
       "3                  0  ...    1       0        0           0       0         0   \n",
       "4                  0  ...    1       0        0           0       0         0   \n",
       "\n",
       "   Trivia  Virtual  Word  Wrestling  \n",
       "0       0        0     0          0  \n",
       "1       0        0     0          0  \n",
       "2       0        0     0          0  \n",
       "3       0        0     0          0  \n",
       "4       0        0     0          0  \n",
       "\n",
       "[5 rows x 57 columns]"
      ]
     },
     "execution_count": 35,
     "metadata": {},
     "output_type": "execute_result"
    }
   ],
   "source": [
    "dummy_ign.head(5)"
   ]
  },
  {
   "cell_type": "code",
   "execution_count": 34,
   "metadata": {},
   "outputs": [],
   "source": [
    "dummy_ign.to_csv('dummy_ign.csv',sep='|',index=False)"
   ]
  }
 ],
 "metadata": {
  "kernelspec": {
   "display_name": "Python 3",
   "language": "python",
   "name": "python3"
  },
  "language_info": {
   "codemirror_mode": {
    "name": "ipython",
    "version": 3
   },
   "file_extension": ".py",
   "mimetype": "text/x-python",
   "name": "python",
   "nbconvert_exporter": "python",
   "pygments_lexer": "ipython3",
   "version": "3.8.3"
  }
 },
 "nbformat": 4,
 "nbformat_minor": 4
}
